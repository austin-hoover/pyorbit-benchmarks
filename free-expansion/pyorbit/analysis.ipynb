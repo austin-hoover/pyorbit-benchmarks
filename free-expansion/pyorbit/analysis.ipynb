{
 "cells": [
  {
   "cell_type": "code",
   "execution_count": null,
   "id": "fce664dd",
   "metadata": {},
   "outputs": [],
   "source": [
    "import os\n",
    "import numpy as np\n",
    "import pandas as pd\n",
    "import matplotlib.pyplot as plt"
   ]
  },
  {
   "cell_type": "code",
   "execution_count": null,
   "id": "76bdc317",
   "metadata": {},
   "outputs": [],
   "source": [
    "plt.rcParams[\"figure.constrained_layout.use\"] = True"
   ]
  },
  {
   "cell_type": "code",
   "execution_count": null,
   "id": "829b10ca",
   "metadata": {},
   "outputs": [],
   "source": [
    "filename = \"./outputs/history.csv\"\n",
    "history = pd.read_csv(filename)\n",
    "history.head()\n"
   ]
  },
  {
   "cell_type": "code",
   "execution_count": null,
   "id": "b27f9d64",
   "metadata": {},
   "outputs": [],
   "source": [
    "fig, ax = plt.subplots(figsize=(3, 2))\n",
    "ax.plot(history[\"s\"], history[\"sig_x\"] * 1000.0)\n",
    "ax.plot(history[\"s\"], history[\"sig_y\"] * 1000.0)\n",
    "ax.plot(history[\"s\"], history[\"sig_z\"] * 1000.0)\n",
    "plt.show()"
   ]
  },
  {
   "cell_type": "code",
   "execution_count": null,
   "id": "c374034b",
   "metadata": {},
   "outputs": [],
   "source": [
    "fig, ax = plt.subplots(figsize=(3, 2))\n",
    "ax.plot(history[\"s\"], history[\"emittance_x\"] * 1.00e+06)\n",
    "ax.plot(history[\"s\"], history[\"emittance_y\"] * 1.00e+06)\n",
    "ax.plot(history[\"s\"], history[\"emittance_z\"])\n",
    "plt.show()"
   ]
  },
  {
   "cell_type": "code",
   "execution_count": null,
   "id": "5bfc9efd",
   "metadata": {},
   "outputs": [],
   "source": [
    "# Plot phase space distribution\n",
    "def load_bunch(filename: str) -> np.ndarray:\n",
    "    x = np.loadtxt(filename, usecols=range(6), comments=\"%\")\n",
    "    x = x * 1000.0\n",
    "    return x\n",
    "\n",
    "# Load initial/final beams\n",
    "bunch_filenames = [\n",
    "    \"outputs/bunch_00.dat\",\n",
    "    \"outputs/bunch_01.dat\",\n",
    "]\n",
    "bunches = [load_bunch(filename) for filename in bunch_filenames]"
   ]
  },
  {
   "cell_type": "code",
   "execution_count": null,
   "id": "febf7312",
   "metadata": {},
   "outputs": [],
   "source": [
    "xmax = np.std(bunches[1], axis=0) * 3.0\n",
    "limits = list(zip(-xmax, xmax))\n",
    "\n",
    "fig, axs = plt.subplots(ncols=2, figsize=(5, 2.5), sharex=True, sharey=True)\n",
    "for ax, x in zip(axs, bunches):\n",
    "    axis = (0, 2)\n",
    "    values, edges = np.histogramdd(x[:, axis], bins=45, range=[limits[k] for k in axis])\n",
    "    ax.pcolormesh(edges[0], edges[1], values.T)\n",
    "plt.show()"
   ]
  },
  {
   "cell_type": "code",
   "execution_count": null,
   "id": "b1408596",
   "metadata": {},
   "outputs": [],
   "source": []
  }
 ],
 "metadata": {
  "kernelspec": {
   "display_name": "impactx-cpu-mpich-dev",
   "language": "python",
   "name": "python3"
  },
  "language_info": {
   "codemirror_mode": {
    "name": "ipython",
    "version": 3
   },
   "file_extension": ".py",
   "mimetype": "text/x-python",
   "name": "python",
   "nbconvert_exporter": "python",
   "pygments_lexer": "ipython3",
   "version": "3.13.3"
  }
 },
 "nbformat": 4,
 "nbformat_minor": 5
}
