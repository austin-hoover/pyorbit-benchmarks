{
 "cells": [
  {
   "cell_type": "markdown",
   "id": "f041dd82",
   "metadata": {},
   "source": [
    "# Code comparison"
   ]
  },
  {
   "cell_type": "code",
   "execution_count": null,
   "id": "ad7b3e95",
   "metadata": {},
   "outputs": [],
   "source": [
    "import os\n",
    "import h5py\n",
    "import numpy as np\n",
    "import pandas as pd\n",
    "import matplotlib.pyplot as plt\n",
    "import ultraplot as uplt"
   ]
  },
  {
   "cell_type": "code",
   "execution_count": null,
   "id": "c318dee3",
   "metadata": {},
   "outputs": [],
   "source": [
    "uplt.rc[\"cmap.discrete\"] = False\n",
    "uplt.rc[\"cmap.sequential\"] = \"viridis\"\n",
    "uplt.rc[\"figure.facecolor\"] = \"white\"\n",
    "uplt.rc[\"grid\"] = False\n",
    "uplt.rc[\"savefig.dpi\"] = 300.0"
   ]
  },
  {
   "cell_type": "code",
   "execution_count": null,
   "id": "12399199",
   "metadata": {},
   "outputs": [],
   "source": [
    "output_dir = \"outputs/analysis\"\n",
    "os.makedirs(output_dir, exist_ok=True)"
   ]
  },
  {
   "cell_type": "markdown",
   "id": "d309ed8e",
   "metadata": {},
   "source": [
    "## RMS beam size evolution"
   ]
  },
  {
   "cell_type": "code",
   "execution_count": null,
   "id": "daba40cc",
   "metadata": {},
   "outputs": [],
   "source": [
    "histories = {}\n",
    "\n",
    "history = pd.read_csv(\"./pyorbit/outputs/history.csv\")\n",
    "histories[\"pyorbit\"] = history.copy()\n",
    "\n",
    "history_ref = pd.read_csv(\"./impactx/diags/ref_particle.0.0\", delimiter=\" \")\n",
    "history_rms = pd.read_csv(\"./impactx/diags/reduced_beam_characteristics.0.0\", delimiter=\" \")\n",
    "history_rms[\"sig_z\"] = history_rms[\"sig_t\"] * history_ref[\"beta\"]\n",
    "history_rms[\"emittance_z\"] = history_rms[\"emittance_t\"]\n",
    "histories[\"impactx\"] = history_rms.copy()"
   ]
  },
  {
   "cell_type": "code",
   "execution_count": null,
   "id": "d9ea39e4",
   "metadata": {},
   "outputs": [],
   "source": [
    "fig, axs = uplt.subplots(ncols=3, figheight=1.75)\n",
    "for ax, key in zip(axs, [\"sig_x\", \"sig_y\", \"sig_z\"]):\n",
    "    ax.plot(histories[\"pyorbit\"][\"s\"], histories[\"pyorbit\"][key] * 1000.0, label=\"impactx\", color=\"blacK\", lw=2.0)\n",
    "    ax.plot(histories[\"impactx\"][\"s\"], histories[\"impactx\"][key] * 1000.0, label=\"pyorbit\", color=\"red\")\n",
    "axs.format(xlabel=\"Distance [m]\", ylabel=\"[mm]\")\n",
    "axs[0].set_title(r\"$\\sqrt{\\langle xx \\rangle}$\", fontsize=\"medium\")\n",
    "axs[1].set_title(r\"$\\sqrt{\\langle yy \\rangle}$\", fontsize=\"medium\")\n",
    "axs[2].set_title(r\"$\\sqrt{\\langle zz \\rangle}$\", fontsize=\"medium\")\n",
    "axs[2].legend(fontsize=\"medium\", ncols=1, loc=\"right\", framealpha=0.0)\n",
    "plt.savefig(os.path.join(output_dir, \"fig_rms_sizes.png\"))"
   ]
  },
  {
   "cell_type": "code",
   "execution_count": null,
   "id": "e3bbe821",
   "metadata": {},
   "outputs": [],
   "source": [
    "fig, axs = uplt.subplots(ncols=2, figheight=1.75)\n",
    "for ax, key in zip(axs, [\"emittance_x\", \"emittance_y\"]):\n",
    "    ax.plot(histories[\"pyorbit\"][\"s\"], histories[\"pyorbit\"][key] * 1.0e+06, label=\"impactx\", color=\"blacK\", lw=2.0)\n",
    "    ax.plot(histories[\"impactx\"][\"s\"], histories[\"impactx\"][key] * 1.0e+06, label=\"pyorbit\", color=\"red\")\n",
    "axs.format(xlabel=\"Distance [m]\", ylabel=\"[mm mrad]\")\n",
    "axs[0].set_title(r\"$\\varepsilon_x$\", fontsize=\"medium\")\n",
    "axs[1].set_title(r\"$\\varepsilon_y$\", fontsize=\"medium\")\n",
    "axs[1].legend(fontsize=\"medium\", ncols=1, loc=\"right\", framealpha=0.0)\n",
    "plt.savefig(os.path.join(output_dir, \"fig_rms_emittances.png\"))"
   ]
  },
  {
   "cell_type": "markdown",
   "id": "64bd26f4",
   "metadata": {},
   "source": [
    "## Phase space distribution"
   ]
  },
  {
   "cell_type": "code",
   "execution_count": null,
   "id": "cb5d14aa",
   "metadata": {},
   "outputs": [],
   "source": [
    "particles = {}"
   ]
  },
  {
   "cell_type": "code",
   "execution_count": null,
   "id": "4b411913",
   "metadata": {},
   "outputs": [],
   "source": [
    "particles[\"pyorbit\"] = []\n",
    "\n",
    "for filename in [\n",
    "    \"pyorbit/outputs/bunch_00.dat\",\n",
    "    \"pyorbit/outputs/bunch_01.dat\",\n",
    "]:\n",
    "    x = np.loadtxt(filename, usecols=range(6), comments=\"%\")\n",
    "    x = x * 1000.0\n",
    "    particles[\"pyorbit\"].append(x.copy())"
   ]
  },
  {
   "cell_type": "code",
   "execution_count": null,
   "id": "a3d0f661",
   "metadata": {},
   "outputs": [],
   "source": [
    "particles[\"impactx\"] = []\n",
    "\n",
    "file = h5py.File(\"./impactx/diags/openPMD/monitor.h5\", \"r\")\n",
    "data = file[\"data\"]\n",
    "step_keys = list(data.keys())  # strings representing step number []\"1\", \"102\", ...]\n",
    "\n",
    "for step_key in step_keys:\n",
    "    x = [\n",
    "        data[step_key][\"particles\"][\"beam\"][\"position\"][\"x\"],\n",
    "        data[step_key][\"particles\"][\"beam\"][\"momentum\"][\"x\"],\n",
    "        data[step_key][\"particles\"][\"beam\"][\"position\"][\"y\"],\n",
    "        data[step_key][\"particles\"][\"beam\"][\"momentum\"][\"y\"],\n",
    "        data[step_key][\"particles\"][\"beam\"][\"position\"][\"t\"],\n",
    "        data[step_key][\"particles\"][\"beam\"][\"momentum\"][\"t\"],\n",
    "    ]\n",
    "    x = np.stack(x, axis=-1)\n",
    "    x = x * 1000.0\n",
    "\n",
    "    ## [to do] Convert longitudinal coordiantes to z and dE.  \n",
    "    # step = int(step_key)\n",
    "    # history_ref = ...\n",
    "    # x[:, 4] = x[:, 4] * history_ref.loc[step, \"beta\"]\n",
    "    # x[:, 5] = ...\n",
    "    \n",
    "    particles[\"impactx\"].append(x.copy())"
   ]
  },
  {
   "cell_type": "code",
   "execution_count": null,
   "id": "7f5f2d37",
   "metadata": {},
   "outputs": [],
   "source": [
    "for axis in [(0, 1), (2, 3), (0, 2)]:\n",
    "    bins = 64\n",
    "    xmax = np.std(particles[\"pyorbit\"][-1], axis=0) * 3.0\n",
    "    limits = list(zip(-xmax, xmax))\n",
    "    dims = [\"x\", \"xp\", \"y\", \"yp\", \"z\", \"dE\"]\n",
    "    units = [\"mm\", \"mrad\", \"mm\", \"mrad\", \"mm\", \"MeV\"]\n",
    "    labels = [f\"{dim} [{unit}]\" for dim, unit in zip(dims, units)]\n",
    "\n",
    "    fig, axs = uplt.subplots(ncols=2, nrows=2, figheight=4.0)\n",
    "    for j, key in enumerate([\"pyorbit\", \"impactx\"]):\n",
    "        for i, x in enumerate(particles[key]):\n",
    "            ax = axs[i, j]\n",
    "            values, edges = np.histogramdd(x[:, axis], bins=bins, range=[limits[k] for k in axis])\n",
    "            ax.pcolormesh(edges[0], edges[1], values.T, cmap=\"viridis\")\n",
    "    axs.format(\n",
    "        xlabel=labels[axis[0]],\n",
    "        ylabel=labels[axis[1]],\n",
    "        toplabels=[\"PyORBIT\", \"ImpactX\"],\n",
    "        leftlabels=[\"IN\", \"OUT\"],\n",
    "    )\n",
    "    filename = f\"fig_dist_{dims[axis[0]]}_{dims[axis[1]]}.png\"\n",
    "    filename = os.path.join(output_dir, filename)\n",
    "    plt.savefig(filename)"
   ]
  },
  {
   "cell_type": "code",
   "execution_count": null,
   "id": "2b3df09a",
   "metadata": {},
   "outputs": [],
   "source": [
    "import psdist.plot as psv\n",
    "\n",
    "cmap = uplt.Colormap(\"Blues\", left=0.1)\n",
    "\n",
    "for index in range(2):\n",
    "    for key in histories:\n",
    "        grid = psv.CornerGrid(ndim=4, figwidth=5.0)\n",
    "        grid.set_labels(labels)\n",
    "        grid.set_limits(limits)\n",
    "        grid.plot(particles[key][index], bins=64, limits=limits, cmap=cmap, diag_kws=dict(lw=1.3))\n",
    "    \n",
    "        filename = f\"fig_corner_{key}_{i}.png\"\n",
    "        filename = os.path.join(output_dir, filename)\n",
    "        plt.savefig(filename)\n",
    "        plt.show()"
   ]
  },
  {
   "cell_type": "code",
   "execution_count": null,
   "id": "b725d0c6",
   "metadata": {},
   "outputs": [],
   "source": []
  }
 ],
 "metadata": {
  "kernelspec": {
   "display_name": "analysis",
   "language": "python",
   "name": "python3"
  },
  "language_info": {
   "codemirror_mode": {
    "name": "ipython",
    "version": 3
   },
   "file_extension": ".py",
   "mimetype": "text/x-python",
   "name": "python",
   "nbconvert_exporter": "python",
   "pygments_lexer": "ipython3",
   "version": "3.13.0"
  }
 },
 "nbformat": 4,
 "nbformat_minor": 5
}
