{
 "cells": [
  {
   "cell_type": "code",
   "execution_count": null,
   "id": "fce664dd",
   "metadata": {},
   "outputs": [],
   "source": [
    "import numpy as np\n",
    "import pandas as pd\n",
    "import openpmd_api as io\n",
    "\n",
    "import matplotlib.pyplot as plt"
   ]
  },
  {
   "cell_type": "code",
   "execution_count": null,
   "id": "76bdc317",
   "metadata": {},
   "outputs": [],
   "source": [
    "plt.rcParams[\"figure.constrained_layout.use\"] = True"
   ]
  },
  {
   "cell_type": "code",
   "execution_count": null,
   "id": "ddf833e9",
   "metadata": {},
   "outputs": [],
   "source": [
    "filename = \"diags/ref_particle.0.0\"\n",
    "history_ref = pd.read_csv(filename, delimiter=\" \")\n",
    "history_ref.head()\n"
   ]
  },
  {
   "cell_type": "code",
   "execution_count": null,
   "id": "829b10ca",
   "metadata": {},
   "outputs": [],
   "source": [
    "filename = \"diags/reduced_beam_characteristics.0.0\"\n",
    "history_rms = pd.read_csv(filename, delimiter=\" \")\n",
    "history_rms.head()\n"
   ]
  },
  {
   "cell_type": "code",
   "execution_count": null,
   "id": "0a66da70",
   "metadata": {},
   "outputs": [],
   "source": [
    "history_rms[\"sig_z\"] = history_rms[\"sig_t\"] * history_ref[\"beta\"]\n",
    "history_rms[\"emittance_z\"] = history_rms[\"emittance_t\"]"
   ]
  },
  {
   "cell_type": "code",
   "execution_count": null,
   "id": "b27f9d64",
   "metadata": {},
   "outputs": [],
   "source": [
    "fig, ax = plt.subplots(figsize=(3, 2))\n",
    "ax.plot(history_rms[\"s\"], history_rms[\"sig_x\"] * 1000.0)\n",
    "ax.plot(history_rms[\"s\"], history_rms[\"sig_y\"] * 1000.0)\n",
    "ax.plot(history_rms[\"s\"], history_rms[\"sig_z\"] * 1000.0)\n",
    "plt.show()"
   ]
  },
  {
   "cell_type": "code",
   "execution_count": null,
   "id": "c374034b",
   "metadata": {},
   "outputs": [],
   "source": [
    "fig, ax = plt.subplots(figsize=(3, 2))\n",
    "ax.plot(history_rms[\"s\"], history_rms[\"emittance_x\"] * 1.00e+06)\n",
    "ax.plot(history_rms[\"s\"], history_rms[\"emittance_y\"] * 1.00e+06)\n",
    "ax.plot(history_rms[\"s\"], history_rms[\"emittance_z\"] * 1.00e+06)\n",
    "plt.show()"
   ]
  },
  {
   "cell_type": "code",
   "execution_count": null,
   "id": "5bfc9efd",
   "metadata": {},
   "outputs": [],
   "source": [
    "# Plot phase space distribution\n",
    "def beam_df_to_np(beam: pd.DataFrame) -> np.ndarray:\n",
    "    columns = [\"position_x\", \"momentum_x\", \"position_y\", \"momentum_y\", \"position_t\", \"momentum_t\"]\n",
    "    x = beam.loc[:, columns].values\n",
    "    x = x * 1000.0\n",
    "    return x \n",
    "\n",
    "# Load initial/final beams\n",
    "series = io.Series(\"./diags/openPMD/monitor.h5\", io.Access.read_only)\n",
    "last_step = list(series.iterations)[-1]\n",
    "initial_beam = series.iterations[1].particles[\"beam\"].to_df()\n",
    "final_beam = series.iterations[last_step].particles[\"beam\"].to_df()\n",
    "\n",
    "# Extract phase space coordinate arrays\n",
    "beams = [initial_beam, final_beam]\n",
    "beams = [beam_df_to_np(beam) for beam in beams]"
   ]
  },
  {
   "cell_type": "code",
   "execution_count": null,
   "id": "febf7312",
   "metadata": {},
   "outputs": [],
   "source": [
    "xmax = np.std(beams[1], axis=0) * 3.0\n",
    "limits = list(zip(-xmax, xmax))\n",
    "\n",
    "fig, axs = plt.subplots(ncols=2, figsize=(5, 2.5), sharex=True, sharey=True)\n",
    "for ax, x in zip(axs, beams):\n",
    "    axis = (0, 2)\n",
    "    values, edges = np.histogramdd(x[:, axis], bins=45, range=[limits[k] for k in axis])\n",
    "    ax.pcolormesh(edges[0], edges[1], values.T)\n",
    "plt.show()"
   ]
  },
  {
   "cell_type": "code",
   "execution_count": null,
   "id": "b1408596",
   "metadata": {},
   "outputs": [],
   "source": []
  }
 ],
 "metadata": {
  "kernelspec": {
   "display_name": "impactx-cpu-mpich-dev",
   "language": "python",
   "name": "python3"
  },
  "language_info": {
   "codemirror_mode": {
    "name": "ipython",
    "version": 3
   },
   "file_extension": ".py",
   "mimetype": "text/x-python",
   "name": "python",
   "nbconvert_exporter": "python",
   "pygments_lexer": "ipython3",
   "version": "3.13.3"
  }
 },
 "nbformat": 4,
 "nbformat_minor": 5
}
